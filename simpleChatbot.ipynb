{
  "nbformat": 4,
  "nbformat_minor": 0,
  "metadata": {
    "colab": {
      "provenance": [],
      "toc_visible": true
    },
    "kernelspec": {
      "name": "python3",
      "display_name": "Python 3"
    },
    "language_info": {
      "name": "python"
    },
    "widgets": {
      "application/vnd.jupyter.widget-state+json": {
        "e1578bce14ec4963b13ea0abebb360ff": {
          "model_module": "@jupyter-widgets/controls",
          "model_name": "HBoxModel",
          "model_module_version": "1.5.0",
          "state": {
            "_dom_classes": [],
            "_model_module": "@jupyter-widgets/controls",
            "_model_module_version": "1.5.0",
            "_model_name": "HBoxModel",
            "_view_count": null,
            "_view_module": "@jupyter-widgets/controls",
            "_view_module_version": "1.5.0",
            "_view_name": "HBoxView",
            "box_style": "",
            "children": [
              "IPY_MODEL_07c77fcd443a491eb1e0dbfaad9b334a",
              "IPY_MODEL_49ae23dc6d124bebb9bec76c907a1dea",
              "IPY_MODEL_8d326e207cb648c69085d0e05a06118d"
            ],
            "layout": "IPY_MODEL_400c3e726f4e46e48a05e4d0eae7abab"
          }
        },
        "07c77fcd443a491eb1e0dbfaad9b334a": {
          "model_module": "@jupyter-widgets/controls",
          "model_name": "HTMLModel",
          "model_module_version": "1.5.0",
          "state": {
            "_dom_classes": [],
            "_model_module": "@jupyter-widgets/controls",
            "_model_module_version": "1.5.0",
            "_model_name": "HTMLModel",
            "_view_count": null,
            "_view_module": "@jupyter-widgets/controls",
            "_view_module_version": "1.5.0",
            "_view_name": "HTMLView",
            "description": "",
            "description_tooltip": null,
            "layout": "IPY_MODEL_93a68129606d48bba2a3b3061769e89a",
            "placeholder": "​",
            "style": "IPY_MODEL_6f094ba7059444d9912ed4c1bc453bfe",
            "value": "100%"
          }
        },
        "49ae23dc6d124bebb9bec76c907a1dea": {
          "model_module": "@jupyter-widgets/controls",
          "model_name": "FloatProgressModel",
          "model_module_version": "1.5.0",
          "state": {
            "_dom_classes": [],
            "_model_module": "@jupyter-widgets/controls",
            "_model_module_version": "1.5.0",
            "_model_name": "FloatProgressModel",
            "_view_count": null,
            "_view_module": "@jupyter-widgets/controls",
            "_view_module_version": "1.5.0",
            "_view_name": "ProgressView",
            "bar_style": "success",
            "description": "",
            "description_tooltip": null,
            "layout": "IPY_MODEL_9e690ce9a51940ab8a5f1cc285c0ffe5",
            "max": 1000,
            "min": 0,
            "orientation": "horizontal",
            "style": "IPY_MODEL_cf7ef39e20af4495b47486edf9df6b1f",
            "value": 1000
          }
        },
        "8d326e207cb648c69085d0e05a06118d": {
          "model_module": "@jupyter-widgets/controls",
          "model_name": "HTMLModel",
          "model_module_version": "1.5.0",
          "state": {
            "_dom_classes": [],
            "_model_module": "@jupyter-widgets/controls",
            "_model_module_version": "1.5.0",
            "_model_name": "HTMLModel",
            "_view_count": null,
            "_view_module": "@jupyter-widgets/controls",
            "_view_module_version": "1.5.0",
            "_view_name": "HTMLView",
            "description": "",
            "description_tooltip": null,
            "layout": "IPY_MODEL_9e14131e2c2a491488d1ebd9985e456e",
            "placeholder": "​",
            "style": "IPY_MODEL_bee98e0e011c495fa04fed96205565e5",
            "value": " 1000/1000 [02:23&lt;00:00,  7.74it/s]"
          }
        },
        "400c3e726f4e46e48a05e4d0eae7abab": {
          "model_module": "@jupyter-widgets/base",
          "model_name": "LayoutModel",
          "model_module_version": "1.2.0",
          "state": {
            "_model_module": "@jupyter-widgets/base",
            "_model_module_version": "1.2.0",
            "_model_name": "LayoutModel",
            "_view_count": null,
            "_view_module": "@jupyter-widgets/base",
            "_view_module_version": "1.2.0",
            "_view_name": "LayoutView",
            "align_content": null,
            "align_items": null,
            "align_self": null,
            "border": null,
            "bottom": null,
            "display": null,
            "flex": null,
            "flex_flow": null,
            "grid_area": null,
            "grid_auto_columns": null,
            "grid_auto_flow": null,
            "grid_auto_rows": null,
            "grid_column": null,
            "grid_gap": null,
            "grid_row": null,
            "grid_template_areas": null,
            "grid_template_columns": null,
            "grid_template_rows": null,
            "height": null,
            "justify_content": null,
            "justify_items": null,
            "left": null,
            "margin": null,
            "max_height": null,
            "max_width": null,
            "min_height": null,
            "min_width": null,
            "object_fit": null,
            "object_position": null,
            "order": null,
            "overflow": null,
            "overflow_x": null,
            "overflow_y": null,
            "padding": null,
            "right": null,
            "top": null,
            "visibility": null,
            "width": null
          }
        },
        "93a68129606d48bba2a3b3061769e89a": {
          "model_module": "@jupyter-widgets/base",
          "model_name": "LayoutModel",
          "model_module_version": "1.2.0",
          "state": {
            "_model_module": "@jupyter-widgets/base",
            "_model_module_version": "1.2.0",
            "_model_name": "LayoutModel",
            "_view_count": null,
            "_view_module": "@jupyter-widgets/base",
            "_view_module_version": "1.2.0",
            "_view_name": "LayoutView",
            "align_content": null,
            "align_items": null,
            "align_self": null,
            "border": null,
            "bottom": null,
            "display": null,
            "flex": null,
            "flex_flow": null,
            "grid_area": null,
            "grid_auto_columns": null,
            "grid_auto_flow": null,
            "grid_auto_rows": null,
            "grid_column": null,
            "grid_gap": null,
            "grid_row": null,
            "grid_template_areas": null,
            "grid_template_columns": null,
            "grid_template_rows": null,
            "height": null,
            "justify_content": null,
            "justify_items": null,
            "left": null,
            "margin": null,
            "max_height": null,
            "max_width": null,
            "min_height": null,
            "min_width": null,
            "object_fit": null,
            "object_position": null,
            "order": null,
            "overflow": null,
            "overflow_x": null,
            "overflow_y": null,
            "padding": null,
            "right": null,
            "top": null,
            "visibility": null,
            "width": null
          }
        },
        "6f094ba7059444d9912ed4c1bc453bfe": {
          "model_module": "@jupyter-widgets/controls",
          "model_name": "DescriptionStyleModel",
          "model_module_version": "1.5.0",
          "state": {
            "_model_module": "@jupyter-widgets/controls",
            "_model_module_version": "1.5.0",
            "_model_name": "DescriptionStyleModel",
            "_view_count": null,
            "_view_module": "@jupyter-widgets/base",
            "_view_module_version": "1.2.0",
            "_view_name": "StyleView",
            "description_width": ""
          }
        },
        "9e690ce9a51940ab8a5f1cc285c0ffe5": {
          "model_module": "@jupyter-widgets/base",
          "model_name": "LayoutModel",
          "model_module_version": "1.2.0",
          "state": {
            "_model_module": "@jupyter-widgets/base",
            "_model_module_version": "1.2.0",
            "_model_name": "LayoutModel",
            "_view_count": null,
            "_view_module": "@jupyter-widgets/base",
            "_view_module_version": "1.2.0",
            "_view_name": "LayoutView",
            "align_content": null,
            "align_items": null,
            "align_self": null,
            "border": null,
            "bottom": null,
            "display": null,
            "flex": null,
            "flex_flow": null,
            "grid_area": null,
            "grid_auto_columns": null,
            "grid_auto_flow": null,
            "grid_auto_rows": null,
            "grid_column": null,
            "grid_gap": null,
            "grid_row": null,
            "grid_template_areas": null,
            "grid_template_columns": null,
            "grid_template_rows": null,
            "height": null,
            "justify_content": null,
            "justify_items": null,
            "left": null,
            "margin": null,
            "max_height": null,
            "max_width": null,
            "min_height": null,
            "min_width": null,
            "object_fit": null,
            "object_position": null,
            "order": null,
            "overflow": null,
            "overflow_x": null,
            "overflow_y": null,
            "padding": null,
            "right": null,
            "top": null,
            "visibility": null,
            "width": null
          }
        },
        "cf7ef39e20af4495b47486edf9df6b1f": {
          "model_module": "@jupyter-widgets/controls",
          "model_name": "ProgressStyleModel",
          "model_module_version": "1.5.0",
          "state": {
            "_model_module": "@jupyter-widgets/controls",
            "_model_module_version": "1.5.0",
            "_model_name": "ProgressStyleModel",
            "_view_count": null,
            "_view_module": "@jupyter-widgets/base",
            "_view_module_version": "1.2.0",
            "_view_name": "StyleView",
            "bar_color": null,
            "description_width": ""
          }
        },
        "9e14131e2c2a491488d1ebd9985e456e": {
          "model_module": "@jupyter-widgets/base",
          "model_name": "LayoutModel",
          "model_module_version": "1.2.0",
          "state": {
            "_model_module": "@jupyter-widgets/base",
            "_model_module_version": "1.2.0",
            "_model_name": "LayoutModel",
            "_view_count": null,
            "_view_module": "@jupyter-widgets/base",
            "_view_module_version": "1.2.0",
            "_view_name": "LayoutView",
            "align_content": null,
            "align_items": null,
            "align_self": null,
            "border": null,
            "bottom": null,
            "display": null,
            "flex": null,
            "flex_flow": null,
            "grid_area": null,
            "grid_auto_columns": null,
            "grid_auto_flow": null,
            "grid_auto_rows": null,
            "grid_column": null,
            "grid_gap": null,
            "grid_row": null,
            "grid_template_areas": null,
            "grid_template_columns": null,
            "grid_template_rows": null,
            "height": null,
            "justify_content": null,
            "justify_items": null,
            "left": null,
            "margin": null,
            "max_height": null,
            "max_width": null,
            "min_height": null,
            "min_width": null,
            "object_fit": null,
            "object_position": null,
            "order": null,
            "overflow": null,
            "overflow_x": null,
            "overflow_y": null,
            "padding": null,
            "right": null,
            "top": null,
            "visibility": null,
            "width": null
          }
        },
        "bee98e0e011c495fa04fed96205565e5": {
          "model_module": "@jupyter-widgets/controls",
          "model_name": "DescriptionStyleModel",
          "model_module_version": "1.5.0",
          "state": {
            "_model_module": "@jupyter-widgets/controls",
            "_model_module_version": "1.5.0",
            "_model_name": "DescriptionStyleModel",
            "_view_count": null,
            "_view_module": "@jupyter-widgets/base",
            "_view_module_version": "1.2.0",
            "_view_name": "StyleView",
            "description_width": ""
          }
        }
      }
    }
  },
  "cells": [
    {
      "cell_type": "markdown",
      "source": [
        "## basic imports"
      ],
      "metadata": {
        "id": "qj_7QWcg7CsW"
      }
    },
    {
      "cell_type": "code",
      "source": [
        "!git clone https://github.com/patrickloeber/pytorch-chatbot\n",
        "!mv pytorch-chatbot .\n",
        "!mv pytorch-chatbot/intents.json .\n",
        "!rm -rf pytorch-chatbot"
      ],
      "metadata": {
        "colab": {
          "base_uri": "https://localhost:8080/"
        },
        "id": "IKLKe_8b7Cod",
        "outputId": "1c4fbd58-f1d9-4f2c-c487-b3861d2e3540"
      },
      "execution_count": 1,
      "outputs": [
        {
          "output_type": "stream",
          "name": "stdout",
          "text": [
            "Cloning into 'pytorch-chatbot'...\n",
            "remote: Enumerating objects: 41, done.\u001b[K\n",
            "remote: Counting objects: 100% (18/18), done.\u001b[K\n",
            "remote: Compressing objects: 100% (10/10), done.\u001b[K\n",
            "remote: Total 41 (delta 11), reused 8 (delta 8), pack-reused 23\u001b[K\n",
            "Receiving objects: 100% (41/41), 11.97 KiB | 1.33 MiB/s, done.\n",
            "Resolving deltas: 100% (18/18), done.\n",
            "mv: 'pytorch-chatbot' and './pytorch-chatbot' are the same file\n"
          ]
        }
      ]
    },
    {
      "cell_type": "markdown",
      "source": [
        "## NLP basic\n",
        "- Tokenization (split a string into meaningful units)\n",
        "- Stemming (convert the word into its root form)\n",
        "-"
      ],
      "metadata": {
        "id": "UiTSvrl-4mgd"
      }
    },
    {
      "cell_type": "code",
      "source": [
        "import nltk\n",
        "nltk.download('punkt')"
      ],
      "metadata": {
        "colab": {
          "base_uri": "https://localhost:8080/"
        },
        "id": "vepTJYt04na-",
        "outputId": "0f10ca64-b3b5-4695-eab8-0fb40d538668"
      },
      "execution_count": null,
      "outputs": [
        {
          "output_type": "stream",
          "name": "stderr",
          "text": [
            "[nltk_data] Downloading package punkt to /root/nltk_data...\n",
            "[nltk_data]   Package punkt is already up-to-date!\n"
          ]
        },
        {
          "output_type": "execute_result",
          "data": {
            "text/plain": [
              "True"
            ]
          },
          "metadata": {},
          "execution_count": 2
        }
      ]
    },
    {
      "cell_type": "markdown",
      "source": [
        "### tokenizer"
      ],
      "metadata": {
        "id": "ycd4pMS4PwNf"
      }
    },
    {
      "cell_type": "code",
      "source": [
        "#tokenizer\n",
        "def tokenize(sentence):\n",
        "  return nltk.word_tokenize(sentence)"
      ],
      "metadata": {
        "id": "kBCeH0sQ4nYl"
      },
      "execution_count": null,
      "outputs": []
    },
    {
      "cell_type": "code",
      "source": [
        "a = \"Bye See you later Goodbye\"\n",
        "a = tokenize(a)\n",
        "a"
      ],
      "metadata": {
        "colab": {
          "base_uri": "https://localhost:8080/"
        },
        "id": "iIbEsqk2BTxO",
        "outputId": "d00b2573-aac6-4ade-dfc5-974d68fc7729"
      },
      "execution_count": null,
      "outputs": [
        {
          "output_type": "execute_result",
          "data": {
            "text/plain": [
              "['Bye', 'See', 'you', 'later', 'Goodbye']"
            ]
          },
          "metadata": {},
          "execution_count": 4
        }
      ]
    },
    {
      "cell_type": "markdown",
      "source": [
        "### stemming"
      ],
      "metadata": {
        "id": "5b7QupK6PzPF"
      }
    },
    {
      "cell_type": "code",
      "source": [
        "#stemmer\n",
        "from nltk.stem.porter import PorterStemmer\n",
        "stemmer = PorterStemmer()\n",
        "\n",
        "def stem(word):\n",
        "  return stemmer.stem(word.lower())"
      ],
      "metadata": {
        "id": "fFT76Vs_4nWS"
      },
      "execution_count": null,
      "outputs": []
    },
    {
      "cell_type": "code",
      "source": [
        "a = [stem(word) for word in a]\n",
        "a"
      ],
      "metadata": {
        "colab": {
          "base_uri": "https://localhost:8080/"
        },
        "id": "tSwQJYxEBmVG",
        "outputId": "308755c8-d430-4a75-8380-a284168cf7f5"
      },
      "execution_count": null,
      "outputs": [
        {
          "output_type": "execute_result",
          "data": {
            "text/plain": [
              "['bye', 'see', 'you', 'later', 'goodby']"
            ]
          },
          "metadata": {},
          "execution_count": 6
        }
      ]
    },
    {
      "cell_type": "markdown",
      "source": [
        "### getting training data and perform tokenizer and stemming"
      ],
      "metadata": {
        "id": "OeHps7-a4nR4"
      }
    },
    {
      "cell_type": "code",
      "source": [
        "#training\n",
        "import json\n",
        "\n",
        "with open(\"intents.json\",\"r\") as f:\n",
        "  intents = json.load(f)\n",
        "\n",
        "print(intents)"
      ],
      "metadata": {
        "colab": {
          "base_uri": "https://localhost:8080/"
        },
        "id": "29st0_3s4nP3",
        "outputId": "04c38447-5c46-4812-835e-dca1f3841eed"
      },
      "execution_count": null,
      "outputs": [
        {
          "output_type": "stream",
          "name": "stdout",
          "text": [
            "{'intents': [{'tag': 'greeting', 'patterns': ['Hi', 'Hey', 'How are you', 'Is anyone there?', 'Hello', 'Good day'], 'responses': ['Hey :-)', 'Hello, thanks for visiting', 'Hi there, what can I do for you?', 'Hi there, how can I help?']}, {'tag': 'goodbye', 'patterns': ['Bye', 'See you later', 'Goodbye'], 'responses': ['See you later, thanks for visiting', 'Have a nice day', 'Bye! Come back again soon.']}, {'tag': 'thanks', 'patterns': ['Thanks', 'Thank you', \"That's helpful\", \"Thank's a lot!\"], 'responses': ['Happy to help!', 'Any time!', 'My pleasure']}, {'tag': 'items', 'patterns': ['Which items do you have?', 'What kinds of items are there?', 'What do you sell?'], 'responses': ['We sell coffee and tea', 'We have coffee and tea']}, {'tag': 'payments', 'patterns': ['Do you take credit cards?', 'Do you accept Mastercard?', 'Can I pay with Paypal?', 'Are you cash only?'], 'responses': ['We accept VISA, Mastercard and Paypal', 'We accept most major credit cards, and Paypal']}, {'tag': 'delivery', 'patterns': ['How long does delivery take?', 'How long does shipping take?', 'When do I get my delivery?'], 'responses': ['Delivery takes 2-4 days', 'Shipping takes 2-4 days']}, {'tag': 'funny', 'patterns': ['Tell me a joke!', 'Tell me something funny!', 'Do you know a joke?'], 'responses': ['Why did the hipster burn his mouth? He drank the coffee before it was cool.', 'What did the buffalo say when his son left for college? Bison.']}]}\n"
          ]
        }
      ]
    },
    {
      "cell_type": "code",
      "source": [
        "all_words = [] #X_train\n",
        "tags = [] #y_train\n",
        "xy = []\n",
        "\n",
        "for intent in intents[\"intents\"]:\n",
        "  tag = intent[\"tag\"]\n",
        "  tags.append(tag)\n",
        "  for pattern in intent[\"patterns\"]:\n",
        "    w = tokenize(pattern)\n",
        "    all_words.extend(w)\n",
        "    xy.append((w,tag))\n",
        "\n",
        "xy"
      ],
      "metadata": {
        "colab": {
          "base_uri": "https://localhost:8080/"
        },
        "id": "qKYFfbTL4nN0",
        "outputId": "a5dbcbf6-85bb-40c9-a1bf-217cd33482e8"
      },
      "execution_count": null,
      "outputs": [
        {
          "output_type": "execute_result",
          "data": {
            "text/plain": [
              "[(['Hi'], 'greeting'),\n",
              " (['Hey'], 'greeting'),\n",
              " (['How', 'are', 'you'], 'greeting'),\n",
              " (['Is', 'anyone', 'there', '?'], 'greeting'),\n",
              " (['Hello'], 'greeting'),\n",
              " (['Good', 'day'], 'greeting'),\n",
              " (['Bye'], 'goodbye'),\n",
              " (['See', 'you', 'later'], 'goodbye'),\n",
              " (['Goodbye'], 'goodbye'),\n",
              " (['Thanks'], 'thanks'),\n",
              " (['Thank', 'you'], 'thanks'),\n",
              " (['That', \"'s\", 'helpful'], 'thanks'),\n",
              " (['Thank', \"'s\", 'a', 'lot', '!'], 'thanks'),\n",
              " (['Which', 'items', 'do', 'you', 'have', '?'], 'items'),\n",
              " (['What', 'kinds', 'of', 'items', 'are', 'there', '?'], 'items'),\n",
              " (['What', 'do', 'you', 'sell', '?'], 'items'),\n",
              " (['Do', 'you', 'take', 'credit', 'cards', '?'], 'payments'),\n",
              " (['Do', 'you', 'accept', 'Mastercard', '?'], 'payments'),\n",
              " (['Can', 'I', 'pay', 'with', 'Paypal', '?'], 'payments'),\n",
              " (['Are', 'you', 'cash', 'only', '?'], 'payments'),\n",
              " (['How', 'long', 'does', 'delivery', 'take', '?'], 'delivery'),\n",
              " (['How', 'long', 'does', 'shipping', 'take', '?'], 'delivery'),\n",
              " (['When', 'do', 'I', 'get', 'my', 'delivery', '?'], 'delivery'),\n",
              " (['Tell', 'me', 'a', 'joke', '!'], 'funny'),\n",
              " (['Tell', 'me', 'something', 'funny', '!'], 'funny'),\n",
              " (['Do', 'you', 'know', 'a', 'joke', '?'], 'funny')]"
            ]
          },
          "metadata": {},
          "execution_count": 8
        }
      ]
    },
    {
      "cell_type": "code",
      "source": [
        "ignore_word = [\"?\",\"!\",\".\",\",\"]\n",
        "all_words = [stem(w) for w in all_words if w not in ignore_word]\n",
        "all_words"
      ],
      "metadata": {
        "colab": {
          "base_uri": "https://localhost:8080/"
        },
        "id": "A-KApEcC4nLm",
        "outputId": "97f1cd91-e9ca-4c84-c15e-67453cc33717"
      },
      "execution_count": null,
      "outputs": [
        {
          "output_type": "execute_result",
          "data": {
            "text/plain": [
              "['hi',\n",
              " 'hey',\n",
              " 'how',\n",
              " 'are',\n",
              " 'you',\n",
              " 'is',\n",
              " 'anyon',\n",
              " 'there',\n",
              " 'hello',\n",
              " 'good',\n",
              " 'day',\n",
              " 'bye',\n",
              " 'see',\n",
              " 'you',\n",
              " 'later',\n",
              " 'goodby',\n",
              " 'thank',\n",
              " 'thank',\n",
              " 'you',\n",
              " 'that',\n",
              " \"'s\",\n",
              " 'help',\n",
              " 'thank',\n",
              " \"'s\",\n",
              " 'a',\n",
              " 'lot',\n",
              " 'which',\n",
              " 'item',\n",
              " 'do',\n",
              " 'you',\n",
              " 'have',\n",
              " 'what',\n",
              " 'kind',\n",
              " 'of',\n",
              " 'item',\n",
              " 'are',\n",
              " 'there',\n",
              " 'what',\n",
              " 'do',\n",
              " 'you',\n",
              " 'sell',\n",
              " 'do',\n",
              " 'you',\n",
              " 'take',\n",
              " 'credit',\n",
              " 'card',\n",
              " 'do',\n",
              " 'you',\n",
              " 'accept',\n",
              " 'mastercard',\n",
              " 'can',\n",
              " 'i',\n",
              " 'pay',\n",
              " 'with',\n",
              " 'paypal',\n",
              " 'are',\n",
              " 'you',\n",
              " 'cash',\n",
              " 'onli',\n",
              " 'how',\n",
              " 'long',\n",
              " 'doe',\n",
              " 'deliveri',\n",
              " 'take',\n",
              " 'how',\n",
              " 'long',\n",
              " 'doe',\n",
              " 'ship',\n",
              " 'take',\n",
              " 'when',\n",
              " 'do',\n",
              " 'i',\n",
              " 'get',\n",
              " 'my',\n",
              " 'deliveri',\n",
              " 'tell',\n",
              " 'me',\n",
              " 'a',\n",
              " 'joke',\n",
              " 'tell',\n",
              " 'me',\n",
              " 'someth',\n",
              " 'funni',\n",
              " 'do',\n",
              " 'you',\n",
              " 'know',\n",
              " 'a',\n",
              " 'joke']"
            ]
          },
          "metadata": {},
          "execution_count": 9
        }
      ]
    },
    {
      "cell_type": "code",
      "source": [
        "#shorting and storing unique values\n",
        "all_words = sorted(set(all_words))\n",
        "tags = sorted(set(tags))\n",
        "\n",
        "all_words,tags"
      ],
      "metadata": {
        "colab": {
          "base_uri": "https://localhost:8080/"
        },
        "id": "S3M7hxbr4nIs",
        "outputId": "07b19c23-bf1c-4ec2-cdf5-df34bf7579c1"
      },
      "execution_count": null,
      "outputs": [
        {
          "output_type": "execute_result",
          "data": {
            "text/plain": [
              "([\"'s\",\n",
              "  'a',\n",
              "  'accept',\n",
              "  'anyon',\n",
              "  'are',\n",
              "  'bye',\n",
              "  'can',\n",
              "  'card',\n",
              "  'cash',\n",
              "  'credit',\n",
              "  'day',\n",
              "  'deliveri',\n",
              "  'do',\n",
              "  'doe',\n",
              "  'funni',\n",
              "  'get',\n",
              "  'good',\n",
              "  'goodby',\n",
              "  'have',\n",
              "  'hello',\n",
              "  'help',\n",
              "  'hey',\n",
              "  'hi',\n",
              "  'how',\n",
              "  'i',\n",
              "  'is',\n",
              "  'item',\n",
              "  'joke',\n",
              "  'kind',\n",
              "  'know',\n",
              "  'later',\n",
              "  'long',\n",
              "  'lot',\n",
              "  'mastercard',\n",
              "  'me',\n",
              "  'my',\n",
              "  'of',\n",
              "  'onli',\n",
              "  'pay',\n",
              "  'paypal',\n",
              "  'see',\n",
              "  'sell',\n",
              "  'ship',\n",
              "  'someth',\n",
              "  'take',\n",
              "  'tell',\n",
              "  'thank',\n",
              "  'that',\n",
              "  'there',\n",
              "  'what',\n",
              "  'when',\n",
              "  'which',\n",
              "  'with',\n",
              "  'you'],\n",
              " ['delivery', 'funny', 'goodbye', 'greeting', 'items', 'payments', 'thanks'])"
            ]
          },
          "metadata": {},
          "execution_count": 10
        }
      ]
    },
    {
      "cell_type": "markdown",
      "source": [
        "### creating bag of word fn"
      ],
      "metadata": {
        "id": "hTyLr4tMQLd3"
      }
    },
    {
      "cell_type": "code",
      "source": [
        "import numpy as np\n",
        "\n",
        "def bag_of_word(tokenize_sentence, all_word):\n",
        "  tokenize_sentence = [stem(w) for w in tokenize_sentence]\n",
        "\n",
        "  bag = np.zeros(len(all_word), dtype=np.float32)\n",
        "  for idx, w in enumerate(all_word):\n",
        "    if w in tokenize_sentence: #check for common word this is kind a like OHE\n",
        "      bag[idx] = 1.0\n",
        "  return bag"
      ],
      "metadata": {
        "id": "2pfYsmJ34nUZ"
      },
      "execution_count": null,
      "outputs": []
    },
    {
      "cell_type": "markdown",
      "source": [
        "### creating train data by applying bag of word"
      ],
      "metadata": {
        "id": "H2LBU_kJ4nEF"
      }
    },
    {
      "cell_type": "code",
      "source": [
        "X_train = []\n",
        "y_train = []\n",
        "\n",
        "for (pattern_sentence, tag) in xy:\n",
        "  bag = bag_of_word(pattern_sentence, all_words)\n",
        "  X_train.append(bag)\n",
        "\n",
        "  label = tags.index(tag)\n",
        "  y_train.append(label)\n",
        "\n",
        "X_train = np.array(X_train)\n",
        "y_train = np.array(y_train)\n",
        "\n",
        "X_train,y_train"
      ],
      "metadata": {
        "colab": {
          "base_uri": "https://localhost:8080/"
        },
        "id": "N4fa5hOT4nB4",
        "outputId": "b7c75cae-62b4-4547-c372-3c3d744d3895"
      },
      "execution_count": null,
      "outputs": [
        {
          "output_type": "execute_result",
          "data": {
            "text/plain": [
              "(array([[0., 0., 0., ..., 0., 0., 0.],\n",
              "        [0., 0., 0., ..., 0., 0., 0.],\n",
              "        [0., 0., 0., ..., 0., 0., 1.],\n",
              "        ...,\n",
              "        [0., 1., 0., ..., 0., 0., 0.],\n",
              "        [0., 0., 0., ..., 0., 0., 0.],\n",
              "        [0., 1., 0., ..., 0., 0., 1.]], dtype=float32),\n",
              " array([3, 3, 3, 3, 3, 3, 2, 2, 2, 6, 6, 6, 6, 4, 4, 4, 5, 5, 5, 5, 0, 0,\n",
              "        0, 1, 1, 1]))"
            ]
          },
          "metadata": {},
          "execution_count": 12
        }
      ]
    },
    {
      "cell_type": "markdown",
      "source": [
        "### creating dataloader"
      ],
      "metadata": {
        "id": "usl9zd9uSpy3"
      }
    },
    {
      "cell_type": "code",
      "source": [
        "import torch\n",
        "import torch.nn as nn\n",
        "from torch.utils.data import Dataset, DataLoader\n",
        "\n",
        "class ChatDataset(Dataset):\n",
        "  def __init__(self):\n",
        "    self.n_samples = len(X_train)\n",
        "    self.x_data = X_train\n",
        "    self.y_data = y_train\n",
        "\n",
        "  #dataset[idx]\n",
        "  def __getitem__(self, index):\n",
        "    return self.x_data[index], self.y_data[index]\n",
        "\n",
        "  def __len__(self):\n",
        "    return self.n_samples"
      ],
      "metadata": {
        "id": "f_bBRElv4nAG"
      },
      "execution_count": null,
      "outputs": []
    },
    {
      "cell_type": "code",
      "source": [
        "BATCH_SIZE = 8\n",
        "\n",
        "dataset = ChatDataset()\n",
        "train_loader = DataLoader(dataset=dataset,\n",
        "                          batch_size=BATCH_SIZE,\n",
        "                          shuffle=True,\n",
        "                          num_workers=2)"
      ],
      "metadata": {
        "id": "KUlPvx4E4m-M"
      },
      "execution_count": null,
      "outputs": []
    },
    {
      "cell_type": "markdown",
      "source": [
        "## creating actual model"
      ],
      "metadata": {
        "id": "O6ntekrn4m6o"
      }
    },
    {
      "cell_type": "code",
      "source": [
        "class NeuralNet(nn.Module):\n",
        "  def __init__(self, input_size, hidden_unit, output_size):\n",
        "    super().__init__()\n",
        "    self.block1 = nn.Sequential(nn.Linear(in_features=input_size, out_features=hidden_unit),\n",
        "                                nn.ReLU(),\n",
        "                                nn.Linear(in_features=hidden_unit, out_features=hidden_unit),\n",
        "                                nn.ReLU()\n",
        "                                )\n",
        "    self.last = nn.Linear(in_features=hidden_unit, out_features=output_size)\n",
        "\n",
        "  def forward(self, x):\n",
        "    x = self.block1(x)\n",
        "    return self.last(x)"
      ],
      "metadata": {
        "id": "N0oYPWLc4m4z"
      },
      "execution_count": null,
      "outputs": []
    },
    {
      "cell_type": "code",
      "source": [
        "INPUT_SIZE = len(X_train[0])\n",
        "HIDDEN_UNIT = 8\n",
        "OUTPUT_SIZE = len(tags)\n",
        "\n",
        "device = \"cuda\" if torch.cuda.is_available() else \"cpu\"\n",
        "\n",
        "model = NeuralNet(input_size=INPUT_SIZE,\n",
        "                  hidden_unit=HIDDEN_UNIT,\n",
        "                  output_size=OUTPUT_SIZE).to(device)\n",
        "model"
      ],
      "metadata": {
        "colab": {
          "base_uri": "https://localhost:8080/"
        },
        "id": "rsw6B_GN4m2r",
        "outputId": "32af45a9-5d8b-40eb-8442-011fed69b73c"
      },
      "execution_count": null,
      "outputs": [
        {
          "output_type": "execute_result",
          "data": {
            "text/plain": [
              "NeuralNet(\n",
              "  (block1): Sequential(\n",
              "    (0): Linear(in_features=54, out_features=8, bias=True)\n",
              "    (1): ReLU()\n",
              "    (2): Linear(in_features=8, out_features=8, bias=True)\n",
              "    (3): ReLU()\n",
              "  )\n",
              "  (last): Linear(in_features=8, out_features=7, bias=True)\n",
              ")"
            ]
          },
          "metadata": {},
          "execution_count": 16
        }
      ]
    },
    {
      "cell_type": "markdown",
      "source": [
        "## training model"
      ],
      "metadata": {
        "id": "phvbFMSWcwG2"
      }
    },
    {
      "cell_type": "code",
      "source": [
        "!pip install torchinfo"
      ],
      "metadata": {
        "colab": {
          "base_uri": "https://localhost:8080/"
        },
        "id": "5NuVX47szUQe",
        "outputId": "5d7d001c-5ad0-4369-cf58-8cc776194181"
      },
      "execution_count": null,
      "outputs": [
        {
          "output_type": "stream",
          "name": "stdout",
          "text": [
            "Requirement already satisfied: torchinfo in /usr/local/lib/python3.10/dist-packages (1.8.0)\n"
          ]
        }
      ]
    },
    {
      "cell_type": "code",
      "source": [
        "loss_fn = nn.CrossEntropyLoss()\n",
        "optimizer = torch.optim.Adam(params=model.parameters(),\n",
        "                             lr=0.001)"
      ],
      "metadata": {
        "id": "rkkOCdx_vHZU"
      },
      "execution_count": null,
      "outputs": []
    },
    {
      "cell_type": "code",
      "source": [
        "from tqdm.auto import tqdm\n",
        "epochs = 1000\n",
        "\n",
        "for epoch in tqdm(range(epochs)):\n",
        "  for (X, y) in train_loader:\n",
        "    X, y = X.to(device), y.to(device)\n",
        "    #print(X.shape)\n",
        "\n",
        "    y_train = model(X)\n",
        "    loss = loss_fn(y_train, y)\n",
        "\n",
        "    #optimizer and backpropogation\n",
        "    optimizer.zero_grad()\n",
        "    loss.backward()\n",
        "    optimizer.step()\n",
        "\n",
        "  if (epoch + 1) % 100 == 0:\n",
        "    print(f\"Epoch: {epoch+1} | Loss: {loss.item(): .4f}\")"
      ],
      "metadata": {
        "colab": {
          "base_uri": "https://localhost:8080/",
          "height": 223,
          "referenced_widgets": [
            "e1578bce14ec4963b13ea0abebb360ff",
            "07c77fcd443a491eb1e0dbfaad9b334a",
            "49ae23dc6d124bebb9bec76c907a1dea",
            "8d326e207cb648c69085d0e05a06118d",
            "400c3e726f4e46e48a05e4d0eae7abab",
            "93a68129606d48bba2a3b3061769e89a",
            "6f094ba7059444d9912ed4c1bc453bfe",
            "9e690ce9a51940ab8a5f1cc285c0ffe5",
            "cf7ef39e20af4495b47486edf9df6b1f",
            "9e14131e2c2a491488d1ebd9985e456e",
            "bee98e0e011c495fa04fed96205565e5"
          ]
        },
        "id": "cdxghtrbvHXT",
        "outputId": "0b49cc64-20fd-4199-e5ad-d157e3be7a8a"
      },
      "execution_count": null,
      "outputs": [
        {
          "output_type": "display_data",
          "data": {
            "text/plain": [
              "  0%|          | 0/1000 [00:00<?, ?it/s]"
            ],
            "application/vnd.jupyter.widget-view+json": {
              "version_major": 2,
              "version_minor": 0,
              "model_id": "e1578bce14ec4963b13ea0abebb360ff"
            }
          },
          "metadata": {}
        },
        {
          "output_type": "stream",
          "name": "stdout",
          "text": [
            "Epoch: 100 | Loss:  1.3922\n",
            "Epoch: 200 | Loss:  0.3105\n",
            "Epoch: 300 | Loss:  0.0255\n",
            "Epoch: 400 | Loss:  0.0084\n",
            "Epoch: 500 | Loss:  0.0069\n",
            "Epoch: 600 | Loss:  0.0015\n",
            "Epoch: 700 | Loss:  0.0035\n",
            "Epoch: 800 | Loss:  0.0017\n",
            "Epoch: 900 | Loss:  0.0013\n",
            "Epoch: 1000 | Loss:  0.0007\n"
          ]
        }
      ]
    },
    {
      "cell_type": "code",
      "source": [
        "data = {\n",
        "    \"model_state\": model.state_dict(),\n",
        "    \"input_size\": INPUT_SIZE,\n",
        "    \"output_size\": OUTPUT_SIZE,\n",
        "    \"hidden_unit\": HIDDEN_UNIT,\n",
        "    \"all_words\": all_words,\n",
        "    \"tags\": tags\n",
        "}\n",
        "\n",
        "FILE = \"data.pth\"\n",
        "torch.save(data, FILE)\n",
        "print(f\"file save to {FILE}\")"
      ],
      "metadata": {
        "colab": {
          "base_uri": "https://localhost:8080/"
        },
        "id": "TsGqHLe1vHTN",
        "outputId": "481c18be-ffdb-4d97-d5d6-718565673c67"
      },
      "execution_count": null,
      "outputs": [
        {
          "output_type": "stream",
          "name": "stdout",
          "text": [
            "file save to data.pth\n"
          ]
        }
      ]
    },
    {
      "cell_type": "markdown",
      "source": [
        "## Lets chat with it"
      ],
      "metadata": {
        "id": "Upn45OmTvHPN"
      }
    },
    {
      "cell_type": "code",
      "source": [
        "with open(\"intents.json\",\"r\") as f:\n",
        "  intent = json.load(f)\n",
        "\n",
        "FILE = \"data.pth\"\n",
        "data = torch.load(FILE)\n",
        "\n",
        "input_size = data['input_size']\n",
        "hidden_unit = data['hidden_unit']\n",
        "output_size = data['output_size']\n",
        "model_state = data['model_state']\n",
        "all_words = data['all_words']\n",
        "tags = data['tags']\n",
        "\n",
        "savemodel = NeuralNet(input_size=input_size,\n",
        "                      hidden_unit=hidden_unit,\n",
        "                      output_size=output_size).to(device)\n",
        "\n",
        "savemodel.load_state_dict(model_state)"
      ],
      "metadata": {
        "colab": {
          "base_uri": "https://localhost:8080/"
        },
        "id": "8rL2Y7EsvHND",
        "outputId": "062a4bd0-5d88-4abc-e871-05d782b06229"
      },
      "execution_count": null,
      "outputs": [
        {
          "output_type": "execute_result",
          "data": {
            "text/plain": [
              "<All keys matched successfully>"
            ]
          },
          "metadata": {},
          "execution_count": 21
        }
      ]
    },
    {
      "cell_type": "code",
      "source": [
        "import random\n",
        "savemodel.eval()\n",
        "\n",
        "bot_name = \"Ram\"\n",
        "print(f\"Let's chat! Type 'quit' to exit\")\n",
        "while True:\n",
        "  sentence = input(\"You: \")\n",
        "  if sentence == \"quit\":\n",
        "    break\n",
        "\n",
        "  sentence = tokenize(sentence)\n",
        "  X = bag_of_word(sentence, all_words)\n",
        "  X = X.reshape(1, X.shape[0])\n",
        "  X = torch.from_numpy(X)\n",
        "\n",
        "  y_test = savemodel(X)\n",
        "  _, predict = torch.max(y_test, dim=1)\n",
        "  tag = tags[predict.item()]\n",
        "\n",
        "  probs = torch.softmax(y_test, dim=1)\n",
        "  prob = probs[0][predict.item()]\n",
        "\n",
        "  if prob > 0.75:\n",
        "    for intent in intents['intents']:\n",
        "      if tag == intent['tag']:\n",
        "        print(f\"{bot_name}: {random.choice(intent['responses'])}\")\n",
        "  else:\n",
        "    print(f\"{bot_name}: Sorry, I dont understand\")"
      ],
      "metadata": {
        "colab": {
          "base_uri": "https://localhost:8080/"
        },
        "id": "Oi3IAAnevHLB",
        "outputId": "ec5e5f5b-5b78-4b30-e2d8-fd6b2b41eea9"
      },
      "execution_count": null,
      "outputs": [
        {
          "name": "stdout",
          "output_type": "stream",
          "text": [
            "Let's chat! Type 'quit' to exit\n",
            "You: hello\n",
            "Ram: Hi there, what can I do for you?\n",
            "You: what you can do\n",
            "Ram: We sell coffee and tea\n",
            "You: what about coffee\n",
            "Ram: We have coffee and tea\n",
            "You: price of coffee\n",
            "Ram: Sorry, I dont understand\n",
            "You: more\n",
            "Ram: Hi there, how can I help?\n",
            "You: what you can do\n",
            "Ram: We have coffee and tea\n",
            "You: lets have coffee\n",
            "Ram: Sorry, I dont understand\n",
            "You: quit\n"
          ]
        }
      ]
    },
    {
      "cell_type": "code",
      "source": [],
      "metadata": {
        "id": "sAPkfjeLvHJN"
      },
      "execution_count": null,
      "outputs": []
    }
  ]
}